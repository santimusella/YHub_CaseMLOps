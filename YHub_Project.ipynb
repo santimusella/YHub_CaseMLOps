{
  "nbformat": 4,
  "nbformat_minor": 0,
  "metadata": {
    "colab": {
      "provenance": [],
      "collapsed_sections": []
    },
    "kernelspec": {
      "name": "python3",
      "display_name": "Python 3"
    },
    "language_info": {
      "name": "python"
    }
  },
  "cells": [
    {
      "cell_type": "code",
      "source": [
        "# Run this command to install sklearn:\n",
        "# Instalar sklearn:\n",
        "#!pip install sklearn\n",
        "\n",
        "# Run this command to install seaborn:\n",
        "# Instalar seaborn:\n",
        "#!pip install seaborn\n",
        "\n",
        "# Run this command to install pyspark:\n",
        "# Instalar pyspark:\n",
        "#!pip install pyspark[sql]\n",
        "#!pip install pyspark[pandas_on_spark]"
      ],
      "metadata": {
        "id": "v9j38kN83kzg"
      },
      "execution_count": null,
      "outputs": []
    },
    {
      "cell_type": "code",
      "execution_count": 4,
      "metadata": {
        "id": "0iLyIs7b4aec"
      },
      "outputs": [],
      "source": [
        "# Necessary imports\n",
        "# Imports necessarios\n",
        "from sklearn import datasets\n",
        "import pandas as pd\n",
        "import numpy as np\n",
        "import seaborn as sns\n",
        "import pyspark.sql\n",
        "from pyspark.ml.linalg import Vectors\n",
        "from pyspark.ml.feature import VectorAssembler\n",
        "from pyspark.ml.regression import LinearRegression"
      ]
    },
    {
      "cell_type": "code",
      "source": [
        "# Load the data from sklearn dataset\n",
        "# Carregar a data inicial do sklearn dataset\n",
        "boston_initial_data = datasets.load_boston()\n",
        "\n",
        "# Print the description of the data\n",
        "# Print a descricao da data\n",
        "print(boston_initial_data.DESCR)"
      ],
      "metadata": {
        "id": "wctfOJJo426J"
      },
      "execution_count": null,
      "outputs": []
    },
    {
      "cell_type": "code",
      "source": [
        "# Print the feature names (possible columns in the future)\n",
        "# Print as feature names (possivelmente serao colunas depois)\n",
        "print(boston_initial_data.feature_names)\n",
        "# We can see from the print statement that the 'MEDV' col is missing\n",
        "# Podemos ver que a coluna 'MEDV' nao esta nos feature names\n",
        "\n",
        "# Print all keys of the dataset for further exploration\n",
        "# Print todas as keys do dataset para explorar a data\n",
        "print(boston_initial_data.keys())\n",
        "\n",
        "# !!! The 'target' key corresponds to the missing MEDV col !!!\n",
        "# !!! A key 'target' corresponde a coluna MEDV !!!"
      ],
      "metadata": {
        "id": "-RXR1fjI7qwy"
      },
      "execution_count": null,
      "outputs": []
    },
    {
      "cell_type": "code",
      "source": [
        "# Create a pandas df with the dataset\n",
        "# Criar um pandas df com o dataset original\n",
        "boston_df = pd.DataFrame(boston_initial_data.data, columns=boston_initial_data.feature_names)\n",
        "\n",
        "# Add the target col as MEDV\n",
        "# Adicionar a coluna target como MEDV\n",
        "boston_df['MEDV'] = boston_initial_data.target"
      ],
      "metadata": {
        "id": "O2vUp70R5JNd"
      },
      "execution_count": 7,
      "outputs": []
    },
    {
      "cell_type": "code",
      "source": [
        "# Check the first 5 rows from the df\n",
        "# Verificar as primeiras filas do df\n",
        "boston_df.head()\n",
        "\n",
        "# !!! DATA  OK !!!"
      ],
      "metadata": {
        "id": "zB2KOfbk8yyV"
      },
      "execution_count": null,
      "outputs": []
    },
    {
      "cell_type": "code",
      "source": [
        "# Second check - null values\n",
        "# Segunda verificacao - valores nulos\n",
        "boston_df.isnull().sum()\n",
        "\n",
        "# !!! DATA OK !!!"
      ],
      "metadata": {
        "id": "viNfjgXG9WfM"
      },
      "execution_count": null,
      "outputs": []
    },
    {
      "cell_type": "markdown",
      "source": [
        "Now that we've checked that the data OK, we can explore it.\n",
        "\n",
        "Agora que verificamos que a data esta OK, podemos comecar a explorar o dataset."
      ],
      "metadata": {
        "id": "YlKvGMSG-R4d"
      }
    },
    {
      "cell_type": "code",
      "source": [
        "# Using seaborn histplot (kde=true gives us the curve)\n",
        "# Usando seaborn histplot (kde=true inclui a curva no grafico)\n",
        "sns.histplot(boston_df['MEDV'], kde=True)\n",
        "\n",
        "# We can see that there is a normal distribution with outliers\n",
        "# Podemos ver que existe uma distribuicao normal com valores atipicos"
      ],
      "metadata": {
        "colab": {
          "base_uri": "https://localhost:8080/",
          "height": 296
        },
        "id": "Xv_oPeFU-bML",
        "outputId": "54d232f0-a723-4754-82c2-00c71650814e"
      },
      "execution_count": 10,
      "outputs": [
        {
          "output_type": "execute_result",
          "data": {
            "text/plain": [
              "<matplotlib.axes._subplots.AxesSubplot at 0x7f731dff5c50>"
            ]
          },
          "metadata": {},
          "execution_count": 10
        },
        {
          "output_type": "display_data",
          "data": {
            "text/plain": [
              "<Figure size 432x288 with 1 Axes>"
            ],
            "image/png": "[encoded data removed]"
          },
          "metadata": {
            "needs_background": "light"
          }
        }
      ]
    },
    {
      "cell_type": "markdown",
      "source": [
        "Since we have so many possible variables for our linear regression model, we should create a correlation matrix to check which variable has the highest positive correlation and lowest negative correlation with out target (MEDV). We will create three models, two will use the highest and lowest correlation variables, and the other model will use the VectorAssembler transformer from PySpark to combine all variables into one, and use this single merged variable.\n",
        "\n",
        "Como temos tantas variaveis possiveis para o modelo de regressao linear, \n",
        "podemos criar uma matriz de correlacao para verificar as variaveis e encontrar\n",
        "a variavel com a maior correlacao positiva e menor correlacao negativa em relacao ao target (MEDV). Vamos criar tres modelos diferentes; dois serao com as variaveis com maior e menor correlacao, e o terceiro modelo usara a funcao VectorAssembler do PySpark para combinar todas as variaveis em uma so, e usar essa variavel combinada no modelo."
      ],
      "metadata": {
        "id": "8noV5KkqB4OX"
      }
    },
    {
      "cell_type": "code",
      "source": [
        "# Create a correlation matrix\n",
        "# Matriz de correlacao\n",
        "correlation = boston_df.corr()\n",
        "\n",
        "# Print the correlations between all vars and MEDV (sorted)\n",
        "# Print as correlacoes entre as variaveis e MEDV (em ordem)\n",
        "print(correlation['MEDV'].sort_values(ascending=False))\n",
        "\n",
        "# !!! HIGHEST - RM /// LOWEST - LSTAT !!!\n",
        "# !!! MAIOR - RM /// MENOR - LSTAT !!!"
      ],
      "metadata": {
        "id": "WJvRH4a2CRdt"
      },
      "execution_count": null,
      "outputs": []
    },
    {
      "cell_type": "code",
      "source": [
        "# Now we will start using PySpark. We need to create a SparkSession\n",
        "# Agora vamos comecar a usar pyspark. Precisamos criar uma SparkSession\n",
        "spark = pyspark.sql.SparkSession \\\n",
        "    .builder.master('local[2]') \\\n",
        "    .appName(\"Linear Regression Model YHub\") \\\n",
        "    .getOrCreate()\n",
        "\n",
        "# SparkSession syntax: \n",
        "# master(local[x]) --> This is the master node, running locally with 2 cores (partitions)\n",
        "# appname () --> Name of the sparksession app"
      ],
      "metadata": {
        "id": "QcxDOGRnDCd4"
      },
      "execution_count": 12,
      "outputs": []
    },
    {
      "cell_type": "code",
      "source": [
        "# Create a spark df for the boston df\n",
        "# Criar uma spark df com a data do boston df\n",
        "boston_spark_df = spark.createDataFrame(boston_df)\n",
        "boston_spark_df.show(10)"
      ],
      "metadata": {
        "id": "c62waT4fWNMV"
      },
      "execution_count": null,
      "outputs": []
    },
    {
      "cell_type": "code",
      "source": [
        "# Using the RM variable \n",
        "rm_boston_spark_df = boston_spark_df.select(['RM','MEDV'])\n",
        "rm_boston_spark_df.show(truncate=False)"
      ],
      "metadata": {
        "id": "3e6VvoNeHPzo"
      },
      "execution_count": null,
      "outputs": []
    },
    {
      "cell_type": "code",
      "source": [
        "# Using the LSTAT variable\n",
        "lstat_boston_spark_df = boston_spark_df.select(['LSTAT','MEDV'])\n",
        "lstat_boston_spark_df.show(truncate=False)"
      ],
      "metadata": {
        "id": "9p2syZB2HTz-"
      },
      "execution_count": null,
      "outputs": []
    },
    {
      "cell_type": "code",
      "source": [
        "# Using the VectorAssembler function to merge all columns together\n",
        "# Usando a funcao VectorAssembler para combinar todas as variaveis\n",
        "assembler = VectorAssembler(\n",
        "    inputCols=['CRIM', 'ZN', 'INDUS', 'CHAS', 'NOX', 'RM','AGE','DIS','RAD','TAX','PTRATIO','B','LSTAT'],\n",
        "    outputCol='FEATURES')\n",
        "\n",
        "# Combining the new Features col to our df, then removing unecessary cols\n",
        "# Combinando a nova coluna Features com a nossa df, e removendo as outras cols\n",
        "vector_boston_spark_df = assembler.transform(boston_spark_df).select(['FEATURES','MEDV'])\n",
        "vector_boston_spark_df.show(truncate=False)"
      ],
      "metadata": {
        "id": "sWyHsyYRXEWi"
      },
      "execution_count": null,
      "outputs": []
    },
    {
      "cell_type": "code",
      "source": [
        "def split_datasets(df, train, test):\n",
        "  training_data, test_data = df.randomSplit([train,test])\n",
        "  return training_data, test_data"
      ],
      "metadata": {
        "id": "VsT0QCglHo-7"
      },
      "execution_count": 33,
      "outputs": []
    },
    {
      "cell_type": "code",
      "source": [
        "# Split df into two; training and test data (75/25)\n",
        "# Separar a df em dois; data de treino e teste (75/25)\n",
        "vector_training_data, vector_test_data = split_datasets(vector_boston_spark_df,0.75,0.25)\n",
        "\n",
        "rm_training_data, rm_test_data = split_datasets(rm_boston_spark_df,0.75,0.25)\n",
        "\n",
        "lstat_training_data, lstat_test_data = split_datasets(lstat_boston_spark_df,0.75,0.25)"
      ],
      "metadata": {
        "id": "ck1oWdOKi8pU"
      },
      "execution_count": 35,
      "outputs": []
    },
    {
      "cell_type": "code",
      "source": [
        "# Now we use the LinearRegression function (using MSE as loss function)\n",
        "# Agora usamos LinearRegression, usando MSE como a loss function\n",
        "model = LinearRegression(featuresCol = 'FEATURES', labelCol = 'MEDV')\n",
        "\n",
        "# Fit the training data into the lin regression model\n",
        "# Fazemos o ajuste da data no modelo de regressao linear\n",
        "model = model.fit(training_data_spark)"
      ],
      "metadata": {
        "id": "e9MqY9SwjfYe"
      },
      "execution_count": 16,
      "outputs": []
    },
    {
      "cell_type": "code",
      "source": [
        "# Create a LinearRegressionSummary object using the evaluate method\n",
        "# Criar um objeto LinearRegressionSummary usando o metodo \"evaluate\"\n",
        "test_predictions = model.evaluate(test_data_spark)\n",
        "test_predictions.predictions.show(10)"
      ],
      "metadata": {
        "colab": {
          "base_uri": "https://localhost:8080/"
        },
        "id": "lnZpWRSLOypW",
        "outputId": "70ca7518-5391-4dff-fc93-189a96afde53"
      },
      "execution_count": 25,
      "outputs": [
        {
          "output_type": "stream",
          "name": "stdout",
          "text": [
            "+--------------------+----+------------------+\n",
            "|            FEATURES|MEDV|        prediction|\n",
            "+--------------------+----+------------------+\n",
            "|[0.00632,18.0,2.3...|24.0| 30.44614630832068|\n",
            "|[0.01381,80.0,0.4...|50.0| 40.65512398945653|\n",
            "|[0.01778,95.0,1.4...|32.9| 30.40784555252099|\n",
            "|[0.01951,17.5,1.3...|33.0|22.547565591818174|\n",
            "|[0.02009,95.0,2.6...|50.0| 42.98722138840401|\n",
            "|[0.02875,28.0,15....|25.0|29.676694913898515|\n",
            "|[0.03237,0.0,2.18...|33.4| 28.50390662590334|\n",
            "|[0.03551,25.0,4.8...|22.9| 25.36904124473009|\n",
            "|[0.03584,80.0,3.3...|23.5| 30.71084959504558|\n",
            "|[0.03768,80.0,1.5...|34.6| 34.56559608228523|\n",
            "+--------------------+----+------------------+\n",
            "only showing top 10 rows\n",
            "\n"
          ]
        }
      ]
    },
    {
      "cell_type": "code",
      "source": [
        "# Check the r-squared value of the model\n",
        "# Verificando o valor do r ao quadrado do modelo\n",
        "training_r2 = model.summary.r2\n",
        "print(training_r2)\n",
        "\n",
        "# Check the RMSE value of the model\n",
        "# Verificando o valor do erro quadratico medio do modelo\n",
        "training_rmse = model.summary.rootMeanSquaredError\n",
        "print(training_rmse)"
      ],
      "metadata": {
        "colab": {
          "base_uri": "https://localhost:8080/"
        },
        "id": "xJqqvmVSPNhI",
        "outputId": "54b150b4-7116-45fd-d109-20c208be9775"
      },
      "execution_count": 17,
      "outputs": [
        {
          "output_type": "stream",
          "name": "stdout",
          "text": [
            "0.727957710821554\n",
            "4.778122986328471\n"
          ]
        }
      ]
    },
    {
      "cell_type": "code",
      "source": [
        "# Check the r-squared value of the model\n",
        "# Verificando o valor do r ao quadrado do modelo\n",
        "test_r2 = test_predictions.r2\n",
        "print(test_r2)\n",
        "\n",
        "# Check the r-squared value of the model\n",
        "# Verificando o valor do r ao quadrado do modelo\n",
        "test_rmse = test_predictions.rootMeanSquaredError\n",
        "print(test_rmse)"
      ],
      "metadata": {
        "colab": {
          "base_uri": "https://localhost:8080/"
        },
        "id": "bJpV-HhYERWC",
        "outputId": "408d44f4-b8c9-45da-c3c6-52682ff6fedc"
      },
      "execution_count": 27,
      "outputs": [
        {
          "output_type": "stream",
          "name": "stdout",
          "text": [
            "0.7658813649544587\n",
            "4.481510179179157\n"
          ]
        }
      ]
    },
    {
      "cell_type": "markdown",
      "source": [
        "With this data, we see that we had a higher r-squared value on our test set compared to the r-squared value from the training set. We also see a decrease in the RMSE from the training to the test set. \n",
        "\n",
        "Com esse resultado, podemos ver que o valor do r ao quadrado aumenta quando usamos o test data em relacao ao training data. Tambem vemos uma diminuicao no valor do erro quadratico medio quando vamos da data de treino para a data de teste."
      ],
      "metadata": {
        "id": "Wn69V1KaEzVP"
      }
    }
  ]
}