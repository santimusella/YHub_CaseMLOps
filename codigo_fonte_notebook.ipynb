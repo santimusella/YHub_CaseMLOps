{
  "nbformat": 4,
  "nbformat_minor": 0,
  "metadata": {
    "colab": {
      "provenance": [],
      "collapsed_sections": []
    },
    "kernelspec": {
      "name": "python3",
      "display_name": "Python 3"
    },
    "language_info": {
      "name": "python"
    }
  },
  "cells": [
    {
      "cell_type": "markdown",
      "source": [
        "### Imports"
      ],
      "metadata": {
        "id": "41jfkALh9Ffh"
      }
    },
    {
      "cell_type": "code",
      "execution_count": 42,
      "metadata": {
        "id": "0iLyIs7b4aec"
      },
      "outputs": [],
      "source": [
        "# Necessary imports\n",
        "# Imports necessarios\n",
        "from sklearn import datasets\n",
        "import pandas as pd\n",
        "import numpy as np\n",
        "import seaborn as sns\n",
        "import pyspark.sql\n",
        "from pyspark.ml.linalg import Vectors\n",
        "from pyspark.ml.feature import VectorAssembler\n",
        "from pyspark.ml.regression import LinearRegression"
      ]
    },
    {
      "cell_type": "markdown",
      "source": [
        "### Data Loading - Verification - Exploration"
      ],
      "metadata": {
        "id": "l8YKF8u487H4"
      }
    },
    {
      "cell_type": "code",
      "source": [
        "# Load the data from sklearn dataset\n",
        "# Carregar a data inicial do sklearn dataset\n",
        "boston_initial_data = datasets.load_boston()\n",
        "\n",
        "# Print the description of the data\n",
        "# Print a descricao da data\n",
        "print(boston_initial_data.DESCR)"
      ],
      "metadata": {
        "id": "wctfOJJo426J",
        "colab": {
          "base_uri": "https://localhost:8080/"
        },
        "outputId": "a5d70d6b-77e5-4dd8-c388-23a33e95b9f7"
      },
      "execution_count": 43,
      "outputs": [
        {
          "output_type": "stream",
          "name": "stdout",
          "text": [
            ".. _boston_dataset:\n",
            "\n",
            "Boston house prices dataset\n",
            "---------------------------\n",
            "\n",
            "**Data Set Characteristics:**  \n",
            "\n",
            "    :Number of Instances: 506 \n",
            "\n",
            "    :Number of Attributes: 13 numeric/categorical predictive. Median Value (attribute 14) is usually the target.\n",
            "\n",
            "    :Attribute Information (in order):\n",
            "        - CRIM     per capita crime rate by town\n",
            "        - ZN       proportion of residential land zoned for lots over 25,000 sq.ft.\n",
            "        - INDUS    proportion of non-retail business acres per town\n",
            "        - CHAS     Charles River dummy variable (= 1 if tract bounds river; 0 otherwise)\n",
            "        - NOX      nitric oxides concentration (parts per 10 million)\n",
            "        - RM       average number of rooms per dwelling\n",
            "        - AGE      proportion of owner-occupied units built prior to 1940\n",
            "        - DIS      weighted distances to five Boston employment centres\n",
            "        - RAD      index of accessibility to radial highways\n",
            "        - TAX      full-value property-tax rate per $10,000\n",
            "        - PTRATIO  pupil-teacher ratio by town\n",
            "        - B        1000(Bk - 0.63)^2 where Bk is the proportion of black people by town\n",
            "        - LSTAT    % lower status of the population\n",
            "        - MEDV     Median value of owner-occupied homes in $1000's\n",
            "\n",
            "    :Missing Attribute Values: None\n",
            "\n",
            "    :Creator: Harrison, D. and Rubinfeld, D.L.\n",
            "\n",
            "This is a copy of UCI ML housing dataset.\n",
            "https://archive.ics.uci.edu/ml/machine-learning-databases/housing/\n",
            "\n",
            "\n",
            "This dataset was taken from the StatLib library which is maintained at Carnegie Mellon University.\n",
            "\n",
            "The Boston house-price data of Harrison, D. and Rubinfeld, D.L. 'Hedonic\n",
            "prices and the demand for clean air', J. Environ. Economics & Management,\n",
            "vol.5, 81-102, 1978.   Used in Belsley, Kuh & Welsch, 'Regression diagnostics\n",
            "...', Wiley, 1980.   N.B. Various transformations are used in the table on\n",
            "pages 244-261 of the latter.\n",
            "\n",
            "The Boston house-price data has been used in many machine learning papers that address regression\n",
            "problems.   \n",
            "     \n",
            ".. topic:: References\n",
            "\n",
            "   - Belsley, Kuh & Welsch, 'Regression diagnostics: Identifying Influential Data and Sources of Collinearity', Wiley, 1980. 244-261.\n",
            "   - Quinlan,R. (1993). Combining Instance-Based and Model-Based Learning. In Proceedings on the Tenth International Conference of Machine Learning, 236-243, University of Massachusetts, Amherst. Morgan Kaufmann.\n",
            "\n"
          ]
        },
        {
          "output_type": "stream",
          "name": "stderr",
          "text": [
            "/usr/local/lib/python3.7/dist-packages/sklearn/utils/deprecation.py:87: FutureWarning: Function load_boston is deprecated; `load_boston` is deprecated in 1.0 and will be removed in 1.2.\n",
            "\n",
            "    The Boston housing prices dataset has an ethical problem. You can refer to\n",
            "    the documentation of this function for further details.\n",
            "\n",
            "    The scikit-learn maintainers therefore strongly discourage the use of this\n",
            "    dataset unless the purpose of the code is to study and educate about\n",
            "    ethical issues in data science and machine learning.\n",
            "\n",
            "    In this special case, you can fetch the dataset from the original\n",
            "    source::\n",
            "\n",
            "        import pandas as pd\n",
            "        import numpy as np\n",
            "\n",
            "\n",
            "        data_url = \"http://lib.stat.cmu.edu/datasets/boston\"\n",
            "        raw_df = pd.read_csv(data_url, sep=\"\\s+\", skiprows=22, header=None)\n",
            "        data = np.hstack([raw_df.values[::2, :], raw_df.values[1::2, :2]])\n",
            "        target = raw_df.values[1::2, 2]\n",
            "\n",
            "    Alternative datasets include the California housing dataset (i.e.\n",
            "    :func:`~sklearn.datasets.fetch_california_housing`) and the Ames housing\n",
            "    dataset. You can load the datasets as follows::\n",
            "\n",
            "        from sklearn.datasets import fetch_california_housing\n",
            "        housing = fetch_california_housing()\n",
            "\n",
            "    for the California housing dataset and::\n",
            "\n",
            "        from sklearn.datasets import fetch_openml\n",
            "        housing = fetch_openml(name=\"house_prices\", as_frame=True)\n",
            "\n",
            "    for the Ames housing dataset.\n",
            "    \n",
            "  warnings.warn(msg, category=FutureWarning)\n"
          ]
        }
      ]
    },
    {
      "cell_type": "code",
      "source": [
        "# Print the feature names (possible columns in the future)\n",
        "# Print as feature names (possivelmente serao colunas depois)\n",
        "print(boston_initial_data.feature_names)\n",
        "# We can see from the print statement that the 'MEDV' col is missing\n",
        "# Podemos ver que a coluna 'MEDV' nao esta nos feature names\n",
        "\n",
        "# Print all keys of the dataset for further exploration\n",
        "# Print todas as keys do dataset para explorar a data\n",
        "print(boston_initial_data.keys())\n",
        "\n",
        "# !!! The 'target' key corresponds to the missing MEDV col !!!\n",
        "# !!! A key 'target' corresponde a coluna MEDV !!!"
      ],
      "metadata": {
        "id": "-RXR1fjI7qwy",
        "colab": {
          "base_uri": "https://localhost:8080/"
        },
        "outputId": "eb864429-272a-45d3-c079-b2153c3d1666"
      },
      "execution_count": 44,
      "outputs": [
        {
          "output_type": "stream",
          "name": "stdout",
          "text": [
            "['CRIM' 'ZN' 'INDUS' 'CHAS' 'NOX' 'RM' 'AGE' 'DIS' 'RAD' 'TAX' 'PTRATIO'\n",
            " 'B' 'LSTAT']\n",
            "dict_keys(['data', 'target', 'feature_names', 'DESCR', 'filename', 'data_module'])\n"
          ]
        }
      ]
    },
    {
      "cell_type": "code",
      "source": [
        "# Create a pandas df with the dataset\n",
        "# Criar um pandas df com o dataset original\n",
        "boston_df = pd.DataFrame(boston_initial_data.data, columns=boston_initial_data.feature_names)\n",
        "\n",
        "# Add the target col as MEDV\n",
        "# Adicionar a coluna target como MEDV\n",
        "boston_df['MEDV'] = boston_initial_data.target"
      ],
      "metadata": {
        "id": "O2vUp70R5JNd"
      },
      "execution_count": 45,
      "outputs": []
    },
    {
      "cell_type": "code",
      "source": [
        "# Check the first 5 rows from the df\n",
        "# Verificar as primeiras filas do df\n",
        "boston_df.head()\n",
        "\n",
        "# !!! DATA  OK !!!"
      ],
      "metadata": {
        "colab": {
          "base_uri": "https://localhost:8080/",
          "height": 206
        },
        "id": "zB2KOfbk8yyV",
        "outputId": "2262f1d2-b7f4-4db6-b2b4-71cbb4d955e0"
      },
      "execution_count": 46,
      "outputs": [
        {
          "output_type": "execute_result",
          "data": {
            "text/plain": [
              "      CRIM    ZN  INDUS  CHAS    NOX     RM   AGE     DIS  RAD    TAX  \\\n",
              "0  0.00632  18.0   2.31   0.0  0.538  6.575  65.2  4.0900  1.0  296.0   \n",
              "1  0.02731   0.0   7.07   0.0  0.469  6.421  78.9  4.9671  2.0  242.0   \n",
              "2  0.02729   0.0   7.07   0.0  0.469  7.185  61.1  4.9671  2.0  242.0   \n",
              "3  0.03237   0.0   2.18   0.0  0.458  6.998  45.8  6.0622  3.0  222.0   \n",
              "4  0.06905   0.0   2.18   0.0  0.458  7.147  54.2  6.0622  3.0  222.0   \n",
              "\n",
              "   PTRATIO       B  LSTAT  MEDV  \n",
              "0     15.3  396.90   4.98  24.0  \n",
              "1     17.8  396.90   9.14  21.6  \n",
              "2     17.8  392.83   4.03  34.7  \n",
              "3     18.7  394.63   2.94  33.4  \n",
              "4     18.7  396.90   5.33  36.2  "
            ],
            "text/html": [
              "\n",
              "  <div id=\"df-efe63dbd-3205-444d-a3a8-a2d89be218ca\">\n",
              "    <div class=\"colab-df-container\">\n",
              "      <div>\n",
              "<style scoped>\n",
              "    .dataframe tbody tr th:only-of-type {\n",
              "        vertical-align: middle;\n",
              "    }\n",
              "\n",
              "    .dataframe tbody tr th {\n",
              "        vertical-align: top;\n",
              "    }\n",
              "\n",
              "    .dataframe thead th {\n",
              "        text-align: right;\n",
              "    }\n",
              "</style>\n",
              "<table border=\"1\" class=\"dataframe\">\n",
              "  <thead>\n",
              "    <tr style=\"text-align: right;\">\n",
              "      <th></th>\n",
              "      <th>CRIM</th>\n",
              "      <th>ZN</th>\n",
              "      <th>INDUS</th>\n",
              "      <th>CHAS</th>\n",
              "      <th>NOX</th>\n",
              "      <th>RM</th>\n",
              "      <th>AGE</th>\n",
              "      <th>DIS</th>\n",
              "      <th>RAD</th>\n",
              "      <th>TAX</th>\n",
              "      <th>PTRATIO</th>\n",
              "      <th>B</th>\n",
              "      <th>LSTAT</th>\n",
              "      <th>MEDV</th>\n",
              "    </tr>\n",
              "  </thead>\n",
              "  <tbody>\n",
              "    <tr>\n",
              "      <th>0</th>\n",
              "      <td>0.00632</td>\n",
              "      <td>18.0</td>\n",
              "      <td>2.31</td>\n",
              "      <td>0.0</td>\n",
              "      <td>0.538</td>\n",
              "      <td>6.575</td>\n",
              "      <td>65.2</td>\n",
              "      <td>4.0900</td>\n",
              "      <td>1.0</td>\n",
              "      <td>296.0</td>\n",
              "      <td>15.3</td>\n",
              "      <td>396.90</td>\n",
              "      <td>4.98</td>\n",
              "      <td>24.0</td>\n",
              "    </tr>\n",
              "    <tr>\n",
              "      <th>1</th>\n",
              "      <td>0.02731</td>\n",
              "      <td>0.0</td>\n",
              "      <td>7.07</td>\n",
              "      <td>0.0</td>\n",
              "      <td>0.469</td>\n",
              "      <td>6.421</td>\n",
              "      <td>78.9</td>\n",
              "      <td>4.9671</td>\n",
              "      <td>2.0</td>\n",
              "      <td>242.0</td>\n",
              "      <td>17.8</td>\n",
              "      <td>396.90</td>\n",
              "      <td>9.14</td>\n",
              "      <td>21.6</td>\n",
              "    </tr>\n",
              "    <tr>\n",
              "      <th>2</th>\n",
              "      <td>0.02729</td>\n",
              "      <td>0.0</td>\n",
              "      <td>7.07</td>\n",
              "      <td>0.0</td>\n",
              "      <td>0.469</td>\n",
              "      <td>7.185</td>\n",
              "      <td>61.1</td>\n",
              "      <td>4.9671</td>\n",
              "      <td>2.0</td>\n",
              "      <td>242.0</td>\n",
              "      <td>17.8</td>\n",
              "      <td>392.83</td>\n",
              "      <td>4.03</td>\n",
              "      <td>34.7</td>\n",
              "    </tr>\n",
              "    <tr>\n",
              "      <th>3</th>\n",
              "      <td>0.03237</td>\n",
              "      <td>0.0</td>\n",
              "      <td>2.18</td>\n",
              "      <td>0.0</td>\n",
              "      <td>0.458</td>\n",
              "      <td>6.998</td>\n",
              "      <td>45.8</td>\n",
              "      <td>6.0622</td>\n",
              "      <td>3.0</td>\n",
              "      <td>222.0</td>\n",
              "      <td>18.7</td>\n",
              "      <td>394.63</td>\n",
              "      <td>2.94</td>\n",
              "      <td>33.4</td>\n",
              "    </tr>\n",
              "    <tr>\n",
              "      <th>4</th>\n",
              "      <td>0.06905</td>\n",
              "      <td>0.0</td>\n",
              "      <td>2.18</td>\n",
              "      <td>0.0</td>\n",
              "      <td>0.458</td>\n",
              "      <td>7.147</td>\n",
              "      <td>54.2</td>\n",
              "      <td>6.0622</td>\n",
              "      <td>3.0</td>\n",
              "      <td>222.0</td>\n",
              "      <td>18.7</td>\n",
              "      <td>396.90</td>\n",
              "      <td>5.33</td>\n",
              "      <td>36.2</td>\n",
              "    </tr>\n",
              "  </tbody>\n",
              "</table>\n",
              "</div>\n",
              "      <button class=\"colab-df-convert\" onclick=\"convertToInteractive('df-efe63dbd-3205-444d-a3a8-a2d89be218ca')\"\n",
              "              title=\"Convert this dataframe to an interactive table.\"\n",
              "              style=\"display:none;\">\n",
              "        \n",
              "  <svg xmlns=\"http://www.w3.org/2000/svg\" height=\"24px\"viewBox=\"0 0 24 24\"\n",
              "       width=\"24px\">\n",
              "    <path d=\"M0 0h24v24H0V0z\" fill=\"none\"/>\n",
              "    <path d=\"M18.56 5.44l.94 2.06.94-2.06 2.06-.94-2.06-.94-.94-2.06-.94 2.06-2.06.94zm-11 1L8.5 8.5l.94-2.06 2.06-.94-2.06-.94L8.5 2.5l-.94 2.06-2.06.94zm10 10l.94 2.06.94-2.06 2.06-.94-2.06-.94-.94-2.06-.94 2.06-2.06.94z\"/><path d=\"M17.41 7.96l-1.37-1.37c-.4-.4-.92-.59-1.43-.59-.52 0-1.04.2-1.43.59L10.3 9.45l-7.72 7.72c-.78.78-.78 2.05 0 2.83L4 21.41c.39.39.9.59 1.41.59.51 0 1.02-.2 1.41-.59l7.78-7.78 2.81-2.81c.8-.78.8-2.07 0-2.86zM5.41 20L4 18.59l7.72-7.72 1.47 1.35L5.41 20z\"/>\n",
              "  </svg>\n",
              "      </button>\n",
              "      \n",
              "  <style>\n",
              "    .colab-df-container {\n",
              "      display:flex;\n",
              "      flex-wrap:wrap;\n",
              "      gap: 12px;\n",
              "    }\n",
              "\n",
              "    .colab-df-convert {\n",
              "      background-color: #E8F0FE;\n",
              "      border: none;\n",
              "      border-radius: 50%;\n",
              "      cursor: pointer;\n",
              "      display: none;\n",
              "      fill: #1967D2;\n",
              "      height: 32px;\n",
              "      padding: 0 0 0 0;\n",
              "      width: 32px;\n",
              "    }\n",
              "\n",
              "    .colab-df-convert:hover {\n",
              "      background-color: #E2EBFA;\n",
              "      box-shadow: 0px 1px 2px rgba(60, 64, 67, 0.3), 0px 1px 3px 1px rgba(60, 64, 67, 0.15);\n",
              "      fill: #174EA6;\n",
              "    }\n",
              "\n",
              "    [theme=dark] .colab-df-convert {\n",
              "      background-color: #3B4455;\n",
              "      fill: #D2E3FC;\n",
              "    }\n",
              "\n",
              "    [theme=dark] .colab-df-convert:hover {\n",
              "      background-color: #434B5C;\n",
              "      box-shadow: 0px 1px 3px 1px rgba(0, 0, 0, 0.15);\n",
              "      filter: drop-shadow(0px 1px 2px rgba(0, 0, 0, 0.3));\n",
              "      fill: #FFFFFF;\n",
              "    }\n",
              "  </style>\n",
              "\n",
              "      <script>\n",
              "        const buttonEl =\n",
              "          document.querySelector('#df-efe63dbd-3205-444d-a3a8-a2d89be218ca button.colab-df-convert');\n",
              "        buttonEl.style.display =\n",
              "          google.colab.kernel.accessAllowed ? 'block' : 'none';\n",
              "\n",
              "        async function convertToInteractive(key) {\n",
              "          const element = document.querySelector('#df-efe63dbd-3205-444d-a3a8-a2d89be218ca');\n",
              "          const dataTable =\n",
              "            await google.colab.kernel.invokeFunction('convertToInteractive',\n",
              "                                                     [key], {});\n",
              "          if (!dataTable) return;\n",
              "\n",
              "          const docLinkHtml = 'Like what you see? Visit the ' +\n",
              "            '<a target=\"_blank\" href=https://colab.research.google.com/notebooks/data_table.ipynb>data table notebook</a>'\n",
              "            + ' to learn more about interactive tables.';\n",
              "          element.innerHTML = '';\n",
              "          dataTable['output_type'] = 'display_data';\n",
              "          await google.colab.output.renderOutput(dataTable, element);\n",
              "          const docLink = document.createElement('div');\n",
              "          docLink.innerHTML = docLinkHtml;\n",
              "          element.appendChild(docLink);\n",
              "        }\n",
              "      </script>\n",
              "    </div>\n",
              "  </div>\n",
              "  "
            ]
          },
          "metadata": {},
          "execution_count": 46
        }
      ]
    },
    {
      "cell_type": "code",
      "source": [
        "# Second check - null values\n",
        "# Segunda verificacao - valores nulos\n",
        "boston_df.isnull().sum()\n",
        "\n",
        "# !!! DATA OK !!!"
      ],
      "metadata": {
        "id": "viNfjgXG9WfM",
        "colab": {
          "base_uri": "https://localhost:8080/"
        },
        "outputId": "0a983ab1-c9a3-4894-8d46-1866ac515ccd"
      },
      "execution_count": 47,
      "outputs": [
        {
          "output_type": "execute_result",
          "data": {
            "text/plain": [
              "CRIM       0\n",
              "ZN         0\n",
              "INDUS      0\n",
              "CHAS       0\n",
              "NOX        0\n",
              "RM         0\n",
              "AGE        0\n",
              "DIS        0\n",
              "RAD        0\n",
              "TAX        0\n",
              "PTRATIO    0\n",
              "B          0\n",
              "LSTAT      0\n",
              "MEDV       0\n",
              "dtype: int64"
            ]
          },
          "metadata": {},
          "execution_count": 47
        }
      ]
    },
    {
      "cell_type": "markdown",
      "source": [
        "Now that we've checked that the data OK, we can explore it.\n",
        "\n",
        "Agora que verificamos que a data esta OK, podemos comecar a explorar o dataset."
      ],
      "metadata": {
        "id": "YlKvGMSG-R4d"
      }
    },
    {
      "cell_type": "code",
      "source": [
        "# Using seaborn histplot (kde=true gives us the curve)\n",
        "# Usando seaborn histplot (kde=true inclui a curva no grafico)\n",
        "sns.histplot(boston_df['MEDV'], kde=True)\n",
        "\n",
        "# We can see that there is a normal distribution with some outliers, meaning \n",
        "# that we should use MSE as a loss function for the linear regression\n",
        "# Podemos ver que existe uma distribuicao normal com alguns valores atipicos,\n",
        "# entao  deveriamos usar EQM (MSE) como a funcao para a regressao linear"
      ],
      "metadata": {
        "colab": {
          "base_uri": "https://localhost:8080/",
          "height": 296
        },
        "id": "Xv_oPeFU-bML",
        "outputId": "830e8f85-53cf-4e3a-8e6a-c0f522aa108e"
      },
      "execution_count": 48,
      "outputs": [
        {
          "output_type": "execute_result",
          "data": {
            "text/plain": [
              "<matplotlib.axes._subplots.AxesSubplot at 0x7f54ee373210>"
            ]
          },
          "metadata": {},
          "execution_count": 48
        },
        {
          "output_type": "display_data",
          "data": {
            "text/plain": [
              "<Figure size 432x288 with 1 Axes>"
            ],
            "image/png": "[encoded data removed]"
          },
          "metadata": {
            "needs_background": "light"
          }
        }
      ]
    },
    {
      "cell_type": "markdown",
      "source": [
        "Since we have so many possible variables for our linear regression model, we should create a correlation matrix to check which variable has the highest positive correlation and lowest negative correlation with out target (MEDV). We will create three models, two will use the highest and lowest correlation variables, and the other model will use the VectorAssembler transformer from PySpark to combine all variables into one, and use this single merged variable.\n",
        "\n",
        "Como temos tantas variaveis possiveis para o modelo de regressao linear, \n",
        "podemos criar uma matriz de correlacao para verificar as variaveis e encontrar\n",
        "a variavel com a maior correlacao positiva e menor correlacao negativa em relacao ao target (MEDV). Vamos criar tres modelos diferentes; dois serao com as variaveis com maior e menor correlacao, e o terceiro modelo usara a funcao VectorAssembler do PySpark para combinar todas as variaveis em uma so, e usar essa variavel combinada no modelo."
      ],
      "metadata": {
        "id": "8noV5KkqB4OX"
      }
    },
    {
      "cell_type": "code",
      "source": [
        "# Create a correlation matrix\n",
        "# Matriz de correlacao\n",
        "correlation = boston_df.corr()\n",
        "\n",
        "# Print the correlations between all vars and MEDV (sorted)\n",
        "# Print as correlacoes entre as variaveis e MEDV (em ordem)\n",
        "print(correlation['MEDV'].sort_values(ascending=False))\n",
        "\n",
        "# !!! HIGHEST - RM /// LOWEST - LSTAT !!!\n",
        "# !!! MAIOR - RM /// MENOR - LSTAT !!!"
      ],
      "metadata": {
        "colab": {
          "base_uri": "https://localhost:8080/"
        },
        "id": "WJvRH4a2CRdt",
        "outputId": "1eddcd91-8e71-40c7-958f-93afadec0719"
      },
      "execution_count": 49,
      "outputs": [
        {
          "output_type": "stream",
          "name": "stdout",
          "text": [
            "MEDV       1.000000\n",
            "RM         0.695360\n",
            "ZN         0.360445\n",
            "B          0.333461\n",
            "DIS        0.249929\n",
            "CHAS       0.175260\n",
            "AGE       -0.376955\n",
            "RAD       -0.381626\n",
            "CRIM      -0.388305\n",
            "NOX       -0.427321\n",
            "TAX       -0.468536\n",
            "INDUS     -0.483725\n",
            "PTRATIO   -0.507787\n",
            "LSTAT     -0.737663\n",
            "Name: MEDV, dtype: float64\n"
          ]
        }
      ]
    },
    {
      "cell_type": "markdown",
      "source": [
        "### Functions / Funcoes"
      ],
      "metadata": {
        "id": "wow4Yw848dXj"
      }
    },
    {
      "cell_type": "code",
      "source": [
        "def splitDatasets(df, train, test):\n",
        "  training_data, test_data = df.randomSplit([train,test])\n",
        "  return training_data, test_data"
      ],
      "metadata": {
        "id": "VsT0QCglHo-7"
      },
      "execution_count": 50,
      "outputs": []
    },
    {
      "cell_type": "code",
      "source": [
        "def vectorAssemble(df, in_cols, out, target):\n",
        "  # Using the VectorAssembler function to merge all columns together\n",
        "  # Usando a funcao VectorAssembler para combinar todas as variaveis\n",
        "  assembler = VectorAssembler(inputCols=in_cols, outputCol=out)\n",
        "\n",
        "  # Combining the new Features col to our df, then removing unecessary cols\n",
        "  # Combinando a nova coluna Features com a nossa df, e removendo as outras cols\n",
        "  vector_df = assembler.transform(df).select([out,target])\n",
        "  return vector_df"
      ],
      "metadata": {
        "id": "sWyHsyYRXEWi"
      },
      "execution_count": 51,
      "outputs": []
    },
    {
      "cell_type": "code",
      "source": [
        "def createLinearRegModel(df, features, label):\n",
        "  # Now we use the LinearRegression function (using MSE as loss function)\n",
        "  # Agora usamos LinearRegression, usando MSE como a loss function\n",
        "  model = LinearRegression(featuresCol = features, labelCol = label)\n",
        "\n",
        "  # Fit the training data into the lin regression model\n",
        "  # Fazemos o ajuste da data no modelo de regressao linear\n",
        "  model = model.fit(df)\n",
        "\n",
        "  return model"
      ],
      "metadata": {
        "id": "e9MqY9SwjfYe"
      },
      "execution_count": 52,
      "outputs": []
    },
    {
      "cell_type": "markdown",
      "source": [
        "### SPARKSESSION - DATAFRAME"
      ],
      "metadata": {
        "id": "_duMHpET8g-5"
      }
    },
    {
      "cell_type": "code",
      "source": [
        "# Now we will start using PySpark. We need to create a SparkSession\n",
        "# Agora vamos comecar a usar pyspark. Precisamos criar uma SparkSession\n",
        "spark = pyspark.sql.SparkSession \\\n",
        "    .builder.master('local[16]') \\\n",
        "    .appName(\"Linear Regression Model YHub\") \\\n",
        "    .getOrCreate()\n",
        "\n",
        "# SparkSession syntax: \n",
        "# master(local[x]) --> This is the master node, running locally with 16 cores (partitions)\n",
        "# appname () --> Name of the sparksession app\n",
        "\n",
        "# Create a spark df for the boston df\n",
        "# Criar uma spark df com a data do boston df\n",
        "boston_spark_df = spark.createDataFrame(boston_df)"
      ],
      "metadata": {
        "id": "QcxDOGRnDCd4"
      },
      "execution_count": 53,
      "outputs": []
    },
    {
      "cell_type": "markdown",
      "source": [
        "### VectorAssemble Model"
      ],
      "metadata": {
        "id": "x_yoZC3a8oFg"
      }
    },
    {
      "cell_type": "code",
      "source": [
        "# Using VectorAssemble to combine all variables\n",
        "# Usando VectorAssemble para combinar todas as variaveis\n",
        "vector_boston_spark_df = vectorAssemble(boston_spark_df, \\\n",
        "                                        ['CRIM', 'ZN', 'INDUS', 'CHAS', 'NOX', 'RM','AGE','DIS','RAD','TAX','PTRATIO','B','LSTAT'], \\\n",
        "                                        'FEATURES', 'MEDV')\n",
        "\n",
        "# Split df into two; training and test data (75/25)\n",
        "# Separar a df em dois; data de treino e teste (75/25)\n",
        "vector_training_data, vector_test_data = splitDatasets(vector_boston_spark_df,0.75,0.25)\n",
        "\n",
        "vector_model = createLinearRegModel(vector_training_data, 'FEATURES', 'MEDV')"
      ],
      "metadata": {
        "id": "c62waT4fWNMV"
      },
      "execution_count": 54,
      "outputs": []
    },
    {
      "cell_type": "code",
      "source": [
        "# Create a LinearRegressionSummary object using the evaluate method\n",
        "# Criar um objeto LinearRegressionSummary usando o metodo \"evaluate\"\n",
        "vector_test_predictions = vector_model.evaluate(vector_test_data)\n",
        "vector_test_predictions.predictions.show(10)"
      ],
      "metadata": {
        "colab": {
          "base_uri": "https://localhost:8080/"
        },
        "id": "AeoGdP2WQrYP",
        "outputId": "b9f40905-7364-4e30-ae82-559ef251e5c0"
      },
      "execution_count": 55,
      "outputs": [
        {
          "output_type": "stream",
          "name": "stdout",
          "text": [
            "+--------------------+----+------------------+\n",
            "|            FEATURES|MEDV|        prediction|\n",
            "+--------------------+----+------------------+\n",
            "|[0.02729,0.0,7.07...|34.7|31.028610702270225|\n",
            "|[0.11747,12.5,7.8...|18.9| 21.76495901951281|\n",
            "|[0.62976,0.0,8.14...|20.4| 19.08917441618948|\n",
            "|[0.63796,0.0,8.14...|18.2| 18.83631930027904|\n",
            "|[0.7842,0.0,8.14,...|17.5| 16.90914112745549|\n",
            "|[0.84054,0.0,8.14...|13.9|13.094000119140937|\n",
            "|[1.13081,0.0,8.14...|12.7|11.929528017102847|\n",
            "|[1.25179,0.0,8.14...|13.6|12.516114261003604|\n",
            "|[0.01311,90.0,1.2...|35.4|31.350032452929526|\n",
            "|[0.03359,75.0,2.9...|34.9| 33.78639775096879|\n",
            "+--------------------+----+------------------+\n",
            "only showing top 10 rows\n",
            "\n"
          ]
        }
      ]
    },
    {
      "cell_type": "code",
      "source": [
        "# Check the r-squared value of the model\n",
        "# Verificando o valor do r ao quadrado do modelo\n",
        "vector_training_r2 = vector_model.summary.r2\n",
        "print(\"Vector training r-squared: {}\".format(vector_training_r2))\n",
        "\n",
        "# Check the RMSE value of the model\n",
        "# Verificando o valor do erro quadratico medio do modelo\n",
        "vector_training_rmse = vector_model.summary.rootMeanSquaredError\n",
        "print(\"Vector training RMSE:      {}\".format(vector_training_rmse))\n",
        "\n",
        "# Check the r-squared value of the model\n",
        "# Verificando o valor do r ao quadrado do modelo\n",
        "vector_test_r2 = vector_test_predictions.r2\n",
        "print(\"Vector test r-squared:     {}\".format(vector_test_r2))\n",
        "\n",
        "# Check the r-squared value of the model\n",
        "# Verificando o valor do r ao quadrado do modelo\n",
        "vector_test_rmse = vector_test_predictions.rootMeanSquaredError\n",
        "print(\"Vector test RMSE:          {}\\n\".format(vector_test_rmse))\n",
        "\n",
        "vector_r2_difference = vector_test_r2 - vector_training_r2\n",
        "vector_rmse_difference = vector_test_rmse - vector_training_rmse\n",
        "print(\"Vector model r-squared difference: {}\".format(vector_r2_difference))\n",
        "print(\"Vector model RMSE difference:      {}\".format(vector_rmse_difference))"
      ],
      "metadata": {
        "colab": {
          "base_uri": "https://localhost:8080/"
        },
        "id": "it64myouQvBV",
        "outputId": "9c986369-f5ff-4155-b754-7a1932579ac6"
      },
      "execution_count": 56,
      "outputs": [
        {
          "output_type": "stream",
          "name": "stdout",
          "text": [
            "Vector training r-squared: 0.747059388820255\n",
            "Vector training RMSE:      4.661386830125312\n",
            "Vector test r-squared:     0.6867805484057959\n",
            "Vector test RMSE:          4.966131920357299\n",
            "\n",
            "Vector model r-squared difference: -0.06027884041445908\n",
            "Vector model RMSE difference:      0.3047450902319868\n"
          ]
        }
      ]
    },
    {
      "cell_type": "markdown",
      "source": [
        "### RM Model"
      ],
      "metadata": {
        "id": "AVZGW4538uTr"
      }
    },
    {
      "cell_type": "code",
      "source": [
        "# Using the RM variable \n",
        "rm_boston_spark_df = boston_spark_df.select(['RM','MEDV'])\n",
        "\n",
        "rm_boston_spark_df = vectorAssemble(boston_spark_df, ['RM'], 'vRM', 'MEDV')\n",
        "\n",
        "# Split df into two; training and test data (75/25)\n",
        "# Separar a df em dois; data de treino e teste (75/25)\n",
        "rm_training_data, rm_test_data = splitDatasets(rm_boston_spark_df,0.75,0.25)\n",
        "\n",
        "rm_model = createLinearRegModel(rm_training_data, 'vRM', 'MEDV')"
      ],
      "metadata": {
        "id": "3e6VvoNeHPzo"
      },
      "execution_count": 57,
      "outputs": []
    },
    {
      "cell_type": "code",
      "source": [
        "# Create a LinearRegressionSummary object using the evaluate method\n",
        "# Criar um objeto LinearRegressionSummary usando o metodo \"evaluate\"\n",
        "rm_test_predictions = rm_model.evaluate(rm_test_data)\n",
        "rm_test_predictions.predictions.show(10)"
      ],
      "metadata": {
        "colab": {
          "base_uri": "https://localhost:8080/"
        },
        "id": "VXmoq4d4Qzv2",
        "outputId": "0db873e4-69be-4fe7-c978-571f6c7bb61e"
      },
      "execution_count": 58,
      "outputs": [
        {
          "output_type": "stream",
          "name": "stdout",
          "text": [
            "+-------+----+------------------+\n",
            "|    vRM|MEDV|        prediction|\n",
            "+-------+----+------------------+\n",
            "|[5.599]|13.9|16.366158621206637|\n",
            "|[5.813]|14.5|18.255623191802442|\n",
            "|[5.924]|15.6|19.235672571877842|\n",
            "| [5.99]|17.5|19.818404635706457|\n",
            "|[6.004]|18.9|19.942014467427676|\n",
            "|[6.096]|18.2|20.754307647309986|\n",
            "|[6.142]|15.2|21.160454237251145|\n",
            "|[6.377]|15.0| 23.23533355542878|\n",
            "|[6.998]|33.4|28.718312519634388|\n",
            "|[7.147]|36.2|30.033874300095952|\n",
            "+-------+----+------------------+\n",
            "only showing top 10 rows\n",
            "\n"
          ]
        }
      ]
    },
    {
      "cell_type": "code",
      "source": [
        "# Check the r-squared value of the model\n",
        "# Verificando o valor do r ao quadrado do modelo\n",
        "rm_training_r2 = rm_model.summary.r2\n",
        "print(\"RM training r-squared: {}\".format(rm_training_r2))\n",
        "\n",
        "# Check the RMSE value of the model\n",
        "# Verificando o valor do erro quadratico medio do modelo\n",
        "rm_training_rmse = rm_model.summary.rootMeanSquaredError\n",
        "print(\"RM training RMSE:      {}\".format(rm_training_rmse))\n",
        "\n",
        "# Check the r-squared value of the model\n",
        "# Verificando o valor do r ao quadrado do modelo\n",
        "rm_test_r2 = rm_test_predictions.r2\n",
        "print(\"RM test r-squared:     {}\".format(rm_test_r2))\n",
        "\n",
        "# Check the r-squared value of the model\n",
        "# Verificando o valor do r ao quadrado do modelo\n",
        "rm_test_rmse = rm_test_predictions.rootMeanSquaredError\n",
        "print(\"RM test RMSE:          {}\\n\".format(rm_test_rmse))\n",
        "\n",
        "rm_r2_difference = rm_test_r2 - rm_training_r2\n",
        "rm_rmse_difference = rm_test_rmse - rm_training_rmse\n",
        "print(\"RM model r-squared difference: {}\".format(rm_r2_difference))\n",
        "print(\"RM model RMSE difference:      {}\".format(rm_rmse_difference))"
      ],
      "metadata": {
        "colab": {
          "base_uri": "https://localhost:8080/"
        },
        "id": "Tbj-bTZKQ1gG",
        "outputId": "0f5e400b-a2bc-402e-dbd6-4095bda18a4c"
      },
      "execution_count": 59,
      "outputs": [
        {
          "output_type": "stream",
          "name": "stdout",
          "text": [
            "RM training r-squared: 0.4720257825664751\n",
            "RM training RMSE:      6.496165930081994\n",
            "RM test r-squared:     0.5069621019621364\n",
            "RM test RMSE:          6.965945846255431\n",
            "\n",
            "RM model r-squared difference: 0.03493631939566133\n",
            "RM model RMSE difference:      0.4697799161734366\n"
          ]
        }
      ]
    },
    {
      "cell_type": "markdown",
      "source": [
        "### LSTAT MODEL"
      ],
      "metadata": {
        "id": "QNJRSXXM8wt5"
      }
    },
    {
      "cell_type": "code",
      "source": [
        "# Using the LSTAT variable\n",
        "lstat_boston_spark_df = boston_spark_df.select(['LSTAT','MEDV'])\n",
        "\n",
        "lstat_boston_spark_df = vectorAssemble(boston_spark_df, ['LSTAT'], 'vLSTAT', 'MEDV')\n",
        "\n",
        "# Split df into two; training and test data (75/25)\n",
        "# Separar a df em dois; data de treino e teste (75/25)\n",
        "lstat_training_data, lstat_test_data = splitDatasets(lstat_boston_spark_df,0.75,0.25)\n",
        "\n",
        "lstat_model = createLinearRegModel(lstat_training_data, 'vLSTAT', 'MEDV')"
      ],
      "metadata": {
        "id": "9p2syZB2HTz-"
      },
      "execution_count": 60,
      "outputs": []
    },
    {
      "cell_type": "code",
      "source": [
        "# Create a LinearRegressionSummary object using the evaluate method\n",
        "# Criar um objeto LinearRegressionSummary usando o metodo \"evaluate\"\n",
        "lstat_test_predictions = lstat_model.evaluate(lstat_test_data)\n",
        "lstat_test_predictions.predictions.show(10)"
      ],
      "metadata": {
        "colab": {
          "base_uri": "https://localhost:8080/"
        },
        "id": "0WrfsRnOQ7CZ",
        "outputId": "730abd4c-3a56-409e-cf58-48f4c687d365"
      },
      "execution_count": 61,
      "outputs": [
        {
          "output_type": "stream",
          "name": "stdout",
          "text": [
            "+-------+----+------------------+\n",
            "| vLSTAT|MEDV|        prediction|\n",
            "+-------+----+------------------+\n",
            "| [4.03]|34.7| 30.54390849131577|\n",
            "|[11.98]|21.0|23.225127259914338|\n",
            "|[14.67]|17.5|20.748709459603667|\n",
            "|[14.81]|16.6| 20.61982526181798|\n",
            "|[15.71]|21.7|19.791283990338574|\n",
            "| [17.1]|18.9|18.511648026609265|\n",
            "|[17.28]|14.8|18.345939772313386|\n",
            "|[19.15]|27.1| 16.62441513046173|\n",
            "| [1.98]|34.9|32.431141387463306|\n",
            "| [4.84]|26.6|29.798221346984302|\n",
            "+-------+----+------------------+\n",
            "only showing top 10 rows\n",
            "\n"
          ]
        }
      ]
    },
    {
      "cell_type": "code",
      "source": [
        "# Check the r-squared value of the model\n",
        "# Verificando o valor do r ao quadrado do modelo\n",
        "lstat_training_r2 = lstat_model.summary.r2\n",
        "print(\"LSTAT training r-squared: {}\".format(lstat_training_r2))\n",
        "\n",
        "# Check the RMSE value of the model\n",
        "# Verificando o valor do erro quadratico medio do modelo\n",
        "lstat_training_rmse = lstat_model.summary.rootMeanSquaredError\n",
        "print(\"LSTAT training RMSE:      {}\".format(lstat_training_rmse))\n",
        "\n",
        "# Check the r-squared value of the model\n",
        "# Verificando o valor do r ao quadrado do modelo\n",
        "lstat_test_r2 = lstat_test_predictions.r2\n",
        "print(\"LSTAT test r-squared:     {}\".format(lstat_test_r2))\n",
        "\n",
        "# Check the r-squared value of the model\n",
        "# Verificando o valor do r ao quadrado do modelo\n",
        "lstat_test_rmse = lstat_test_predictions.rootMeanSquaredError\n",
        "print(\"LSTAT test RMSE:          {}\\n\".format(lstat_test_rmse))\n",
        "\n",
        "lstat_r2_difference = lstat_test_r2 - lstat_training_r2\n",
        "lstat_rmse_difference = lstat_test_rmse - lstat_training_rmse\n",
        "print(\"LSTAT model r-squared difference: {}\".format(lstat_r2_difference))\n",
        "print(\"LSTAT model RMSE difference:      {}\".format(lstat_rmse_difference))"
      ],
      "metadata": {
        "colab": {
          "base_uri": "https://localhost:8080/"
        },
        "id": "CJLY-gcLQ8V3",
        "outputId": "ef37e6f2-843c-4394-ad11-cc995cc0cca7"
      },
      "execution_count": 62,
      "outputs": [
        {
          "output_type": "stream",
          "name": "stdout",
          "text": [
            "LSTAT training r-squared: 0.5539398573229171\n",
            "LSTAT training RMSE:      6.085008657241329\n",
            "LSTAT test r-squared:     0.5133121440510208\n",
            "LSTAT test RMSE:          6.566566662301825\n",
            "\n",
            "LSTAT model r-squared difference: -0.04062771327189629\n",
            "LSTAT model RMSE difference:      0.48155800506049573\n"
          ]
        }
      ]
    },
    {
      "cell_type": "markdown",
      "source": [
        "### GRAPHS / GRAFICOS"
      ],
      "metadata": {
        "id": "IE7IDVIh8TMU"
      }
    },
    {
      "cell_type": "code",
      "source": [
        "vector_pandas_df = vector_test_predictions.predictions.toPandas()\n",
        "sns.regplot(x=\"prediction\", y=\"MEDV\", data=vector_pandas_df)"
      ],
      "metadata": {
        "colab": {
          "base_uri": "https://localhost:8080/",
          "height": 296
        },
        "id": "AAuzxfCw3que",
        "outputId": "62defc7d-c7db-434b-d242-a3a0bc7eb121"
      },
      "execution_count": 63,
      "outputs": [
        {
          "output_type": "execute_result",
          "data": {
            "text/plain": [
              "<matplotlib.axes._subplots.AxesSubplot at 0x7f54ee2ce290>"
            ]
          },
          "metadata": {},
          "execution_count": 63
        },
        {
          "output_type": "display_data",
          "data": {
            "text/plain": [
              "<Figure size 432x288 with 1 Axes>"
            ],
            "image/png": "[encoded data removed]"
          },
          "metadata": {
            "needs_background": "light"
          }
        }
      ]
    },
    {
      "cell_type": "code",
      "source": [
        "rm_pandas_df = rm_test_predictions.predictions.toPandas()\n",
        "sns.regplot(x=\"prediction\", y=\"MEDV\", data=rm_pandas_df)"
      ],
      "metadata": {
        "colab": {
          "base_uri": "https://localhost:8080/",
          "height": 296
        },
        "id": "l1tErg7g0hI7",
        "outputId": "01d580f6-a4ab-4f82-f7f1-0131cb31817d"
      },
      "execution_count": 64,
      "outputs": [
        {
          "output_type": "execute_result",
          "data": {
            "text/plain": [
              "<matplotlib.axes._subplots.AxesSubplot at 0x7f54ee22aed0>"
            ]
          },
          "metadata": {},
          "execution_count": 64
        },
        {
          "output_type": "display_data",
          "data": {
            "text/plain": [
              "<Figure size 432x288 with 1 Axes>"
            ],
            "image/png": "[encoded data removed]"
          },
          "metadata": {
            "needs_background": "light"
          }
        }
      ]
    },
    {
      "cell_type": "code",
      "source": [
        "lstat_pandas_df = lstat_test_predictions.predictions.select(['prediction','MEDV']).toPandas()\n",
        "sns.regplot(x=\"prediction\", y=\"MEDV\", data=lstat_pandas_df)"
      ],
      "metadata": {
        "colab": {
          "base_uri": "https://localhost:8080/",
          "height": 296
        },
        "id": "JKKQR0do3fFs",
        "outputId": "f3ac9c44-c4f4-413e-ffc0-f21c2f50159f"
      },
      "execution_count": 65,
      "outputs": [
        {
          "output_type": "execute_result",
          "data": {
            "text/plain": [
              "<matplotlib.axes._subplots.AxesSubplot at 0x7f54ee1a7510>"
            ]
          },
          "metadata": {},
          "execution_count": 65
        },
        {
          "output_type": "display_data",
          "data": {
            "text/plain": [
              "<Figure size 432x288 with 1 Axes>"
            ],
            "image/png": "[encoded data removed]"
          },
          "metadata": {
            "needs_background": "light"
          }
        }
      ]
    },
    {
      "cell_type": "markdown",
      "source": [
        "## Results\n",
        "We had three different models; a vectorassemble model which combines all variables into one, a model which compares the RM variable (average rooms per dwelling) with the target, and finally a model using the LSTAT variable (% lower status of the population). \n",
        "\n",
        "From our results after running the training and test data in our models, we have that the best fit is the model using VectorAssemble, combining all variables into a single feature. It has the highest r-squared value and lowest RMSE value, and from the visual graph we can see the vector model has the best fit.\n",
        "\n",
        "\n",
        "## Resultados\n",
        "Comecamos com tres modelos diferentes; um modelo usando VectorAssemble que combinava todas as variaveis em uma so, um modelo que usa a variavel RM que tem a maior correlacao com o alvo, e um ultimo modelo que usa a variavel LSTAT que tem a menor correlacao com o alvo.\n",
        "\n",
        "Pelos nossos resultados depois de rodar a data de treino e teste em todos os modelos, podemos ver que o modelo com melhor fit seria o modelo que usa VectorAssemble. Ele tem o maior valor de r ao quadrado, e o menor valor do erro quadratico medio. Alem disso, podemos ver com os graficos que esse modelo tem o melhor ajuste."
      ],
      "metadata": {
        "id": "Wn69V1KaEzVP"
      }
    }
  ]
}